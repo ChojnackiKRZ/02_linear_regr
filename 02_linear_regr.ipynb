{
  "nbformat": 4,
  "nbformat_minor": 0,
  "metadata": {
    "colab": {
      "name": "02_linear_regr.ipynb",
      "provenance": [],
      "authorship_tag": "ABX9TyPR3zmXIlEE0liI6BjZs4O+",
      "include_colab_link": true
    },
    "kernelspec": {
      "name": "python3",
      "display_name": "Python 3"
    },
    "language_info": {
      "name": "python"
    }
  },
  "cells": [
    {
      "cell_type": "markdown",
      "metadata": {
        "id": "view-in-github",
        "colab_type": "text"
      },
      "source": [
        "<a href=\"https://colab.research.google.com/github/ChojnackiKRZ/02_linear_regr/blob/main/02_linear_regr.ipynb\" target=\"_parent\"><img src=\"https://colab.research.google.com/assets/colab-badge.svg\" alt=\"Open In Colab\"/></a>"
      ]
    },
    {
      "cell_type": "code",
      "execution_count": 1,
      "metadata": {
        "id": "SeDbMyO5pZhP"
      },
      "outputs": [],
      "source": [
        "from sklearn.datasets import load_iris, load_diabetes\n",
        "from sklearn.dummy import DummyClassifier\n",
        "from sklearn.linear_model import LinearRegression, Ridge, Lasso\n",
        "from sklearn.metrics import r2_score,mean_squared_error\n",
        "from sklearn import linear_model\n",
        "from sklearn.neighbors import KNeighborsClassifier\n",
        "from sklearn.model_selection import train_test_split\n",
        "import numpy as np\n",
        "from matplotlib import pyplot as plt"
      ]
    },
    {
      "cell_type": "code",
      "source": [
        "diabetes = load_diabetes()\n",
        "\n",
        "features, target = diabetes.data, diabetes.target\n",
        "\n",
        "features_train, features_test, target_train, target_test = train_test_split(features, target,test_size=0.3, random_state=0)"
      ],
      "metadata": {
        "id": "snfJ3yw7psE6"
      },
      "execution_count": 2,
      "outputs": []
    },
    {
      "cell_type": "code",
      "source": [
        "dummy = DummyClassifier(strategy='prior')\n",
        "dummy.fit(features_train,target_train)"
      ],
      "metadata": {
        "colab": {
          "base_uri": "https://localhost:8080/"
        },
        "id": "cPXDioafpuf7",
        "outputId": "217a04c0-7556-4bda-8fc8-6f68d0226cea"
      },
      "execution_count": 3,
      "outputs": [
        {
          "output_type": "execute_result",
          "data": {
            "text/plain": [
              "DummyClassifier()"
            ]
          },
          "metadata": {},
          "execution_count": 3
        }
      ]
    },
    {
      "cell_type": "code",
      "source": [
        "y_pred_dummy = dummy.predict(features_test)"
      ],
      "metadata": {
        "id": "8E82QorHpw09"
      },
      "execution_count": 4,
      "outputs": []
    },
    {
      "cell_type": "code",
      "source": [
        "r2_score(target_test, y_pred_dummy)"
      ],
      "metadata": {
        "colab": {
          "base_uri": "https://localhost:8080/"
        },
        "id": "nCl9M1WPpzZ3",
        "outputId": "562ce71a-582e-4eab-e3cb-8df3091973f0"
      },
      "execution_count": 5,
      "outputs": [
        {
          "output_type": "execute_result",
          "data": {
            "text/plain": [
              "-1.2597283771786087"
            ]
          },
          "metadata": {},
          "execution_count": 5
        }
      ]
    },
    {
      "cell_type": "code",
      "source": [
        "mean_squared_error(target_test, y_pred_dummy)"
      ],
      "metadata": {
        "colab": {
          "base_uri": "https://localhost:8080/"
        },
        "id": "xerQooOMp1XI",
        "outputId": "1f0f563f-56c5-4cd7-a538-c7056644c32a"
      },
      "execution_count": 6,
      "outputs": [
        {
          "output_type": "execute_result",
          "data": {
            "text/plain": [
              "11527.984962406015"
            ]
          },
          "metadata": {},
          "execution_count": 6
        }
      ]
    },
    {
      "cell_type": "code",
      "source": [
        "lin_reg = LinearRegression().fit(features_train,target_train)"
      ],
      "metadata": {
        "id": "x5a4UEnep3Ig"
      },
      "execution_count": 7,
      "outputs": []
    },
    {
      "cell_type": "code",
      "source": [
        "y_pred_lin = lin_reg.predict(features_test)"
      ],
      "metadata": {
        "id": "E4Wpf7TWp5Jh"
      },
      "execution_count": 8,
      "outputs": []
    },
    {
      "cell_type": "code",
      "source": [
        "r2_score(target_test, y_pred_lin)"
      ],
      "metadata": {
        "colab": {
          "base_uri": "https://localhost:8080/"
        },
        "id": "NrEVNM0dp7yK",
        "outputId": "9d68ed8e-2799-4f80-fcd7-f3c3dd65c8a6"
      },
      "execution_count": 9,
      "outputs": [
        {
          "output_type": "execute_result",
          "data": {
            "text/plain": [
              "0.3928939845074757"
            ]
          },
          "metadata": {},
          "execution_count": 9
        }
      ]
    },
    {
      "cell_type": "code",
      "source": [
        "mean_squared_error(target_test, y_pred_lin)"
      ],
      "metadata": {
        "colab": {
          "base_uri": "https://localhost:8080/"
        },
        "id": "geKwYVGqp-He",
        "outputId": "80d9104a-6cbb-4447-a11c-a6c27e8423b6"
      },
      "execution_count": 10,
      "outputs": [
        {
          "output_type": "execute_result",
          "data": {
            "text/plain": [
              "3097.1461383877977"
            ]
          },
          "metadata": {},
          "execution_count": 10
        }
      ]
    },
    {
      "cell_type": "code",
      "source": [
        "#RIDGE\n",
        "clf_ridge = Ridge(alpha=0.2)\n",
        "clf_ridge.fit(features_train,target_train)  "
      ],
      "metadata": {
        "colab": {
          "base_uri": "https://localhost:8080/"
        },
        "id": "dTnpQITAp_-6",
        "outputId": "47e2713a-b00d-4983-ae03-eea36105acc3"
      },
      "execution_count": 11,
      "outputs": [
        {
          "output_type": "execute_result",
          "data": {
            "text/plain": [
              "Ridge(alpha=0.2)"
            ]
          },
          "metadata": {},
          "execution_count": 11
        }
      ]
    },
    {
      "cell_type": "code",
      "source": [
        "clf_ridge.score(features_test,target_test)"
      ],
      "metadata": {
        "colab": {
          "base_uri": "https://localhost:8080/"
        },
        "id": "Dvk2KNSFqDxX",
        "outputId": "8d586991-b0b2-4966-b29f-d35ed8f05ecd"
      },
      "execution_count": 12,
      "outputs": [
        {
          "output_type": "execute_result",
          "data": {
            "text/plain": [
              "0.4067092393506434"
            ]
          },
          "metadata": {},
          "execution_count": 12
        }
      ]
    },
    {
      "cell_type": "code",
      "source": [
        "#LASSO\n",
        "clf_lasso = linear_model.Lasso(alpha=0.2)\n",
        "clf_lasso.fit(features_train,target_train)"
      ],
      "metadata": {
        "colab": {
          "base_uri": "https://localhost:8080/"
        },
        "id": "LzJzSV4qqGLY",
        "outputId": "c78826a5-d14a-49e3-f3cc-f556b8cba6ae"
      },
      "execution_count": 13,
      "outputs": [
        {
          "output_type": "execute_result",
          "data": {
            "text/plain": [
              "Lasso(alpha=0.2)"
            ]
          },
          "metadata": {},
          "execution_count": 13
        }
      ]
    },
    {
      "cell_type": "code",
      "source": [
        "clf_lasso.score(features_test,target_test)"
      ],
      "metadata": {
        "colab": {
          "base_uri": "https://localhost:8080/"
        },
        "id": "clpyt37HqJwJ",
        "outputId": "21f2a864-5364-45b8-985d-8b4e08829566"
      },
      "execution_count": 14,
      "outputs": [
        {
          "output_type": "execute_result",
          "data": {
            "text/plain": [
              "0.37857122474912486"
            ]
          },
          "metadata": {},
          "execution_count": 14
        }
      ]
    },
    {
      "cell_type": "code",
      "source": [
        "hist_list_ridge=[]\n",
        "alpha_space = np.logspace(-4, 0, 50)\n",
        "for x in alpha_space:\n",
        "    clf_ridge = Ridge(alpha=x)\n",
        "    clf_ridge.fit(features_train,target_train)\n",
        "    value = clf_ridge.score(features_test,target_test)\n",
        "    hist_list_ridge.append(value)"
      ],
      "metadata": {
        "id": "26J5LBCzqMzm"
      },
      "execution_count": 15,
      "outputs": []
    },
    {
      "cell_type": "code",
      "source": [
        "fig = plt.figure(figsize =(10, 7))"
      ],
      "metadata": {
        "colab": {
          "base_uri": "https://localhost:8080/",
          "height": 34
        },
        "id": "8nn1vg52qPJu",
        "outputId": "c48bdbc2-28f6-4139-825e-f626af49fced"
      },
      "execution_count": 16,
      "outputs": [
        {
          "output_type": "display_data",
          "data": {
            "text/plain": [
              "<Figure size 720x504 with 0 Axes>"
            ]
          },
          "metadata": {}
        }
      ]
    },
    {
      "cell_type": "code",
      "source": [
        "plt.plot(alpha_space, hist_list_ridge)\n",
        " \n",
        "# Show Plot\n",
        "plt.show()"
      ],
      "metadata": {
        "colab": {
          "base_uri": "https://localhost:8080/",
          "height": 265
        },
        "id": "NOlFQ4o3qR6t",
        "outputId": "72df7b65-f792-4644-b8e2-8ed186e9b579"
      },
      "execution_count": 17,
      "outputs": [
        {
          "output_type": "display_data",
          "data": {
            "text/plain": [
              "<Figure size 432x288 with 1 Axes>"
            ],
            "image/png": "[encoded data removed]"
          },
          "metadata": {
            "needs_background": "light"
          }
        }
      ]
    },
    {
      "cell_type": "code",
      "source": [
        "hist_list_lasso=[]\n",
        "alpha_space = np.logspace(-4, 0, 50)\n",
        "for x in alpha_space:\n",
        "    clf_lasso = linear_model.Lasso(alpha=x)\n",
        "    clf_lasso.fit(features_train,target_train)\n",
        "    value = clf_lasso.score(features_test,target_test)\n",
        "    hist_list_lasso.append(value)"
      ],
      "metadata": {
        "id": "eZ-AcU8WqYIk"
      },
      "execution_count": 18,
      "outputs": []
    },
    {
      "cell_type": "code",
      "source": [
        "plt.plot(alpha_space, hist_list_lasso)\n",
        " \n",
        "# Show Plot\n",
        "plt.show()"
      ],
      "metadata": {
        "id": "T6pC-5XkqbH4",
        "outputId": "bcbdb2f3-34fc-4df0-a408-c41209f399f8",
        "colab": {
          "base_uri": "https://localhost:8080/",
          "height": 265
        }
      },
      "execution_count": 19,
      "outputs": [
        {
          "output_type": "display_data",
          "data": {
            "text/plain": [
              "<Figure size 432x288 with 1 Axes>"
            ],
            "image/png": "[encoded data removed]"
          },
          "metadata": {
            "needs_background": "light"
          }
        }
      ]
    }
  ]
}